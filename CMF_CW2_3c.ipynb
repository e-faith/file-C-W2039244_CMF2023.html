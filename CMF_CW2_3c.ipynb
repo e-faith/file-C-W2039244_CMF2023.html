{
 "cells": [
  {
   "cell_type": "code",
   "execution_count": 1,
   "id": "2fac29f1",
   "metadata": {},
   "outputs": [],
   "source": [
    "import numpy as np\n",
    "import os"
   ]
  },
  {
   "cell_type": "markdown",
   "id": "be62762e",
   "metadata": {},
   "source": [
    "# Question 3c"
   ]
  },
  {
   "cell_type": "markdown",
   "id": "d8306b9a",
   "metadata": {},
   "source": [
    "S_0 = 100, K = 100, r = 0.05, sigma = 0.2, T = 1.0 and 4 steps for call"
   ]
  },
  {
   "cell_type": "code",
   "execution_count": 2,
   "id": "64a89a6b",
   "metadata": {},
   "outputs": [],
   "source": [
    "S0 = 100                # spot stock price\n",
    "K = 100                 # strike\n",
    "T = 1.0                 # maturity \n",
    "r = 0.05                # risk free rate \n",
    "sigma = 0.2             # diffusion coefficient or volatility\n",
    "N = 4                   # number of periods or number of time steps  \n",
    "payoff = \"call\"         # payoff "
   ]
  },
  {
   "cell_type": "code",
   "execution_count": 3,
   "id": "c01c7ea0",
   "metadata": {},
   "outputs": [],
   "source": [
    "dT = float(T) / N                             # Delta t\n",
    "u = np.exp(sigma * np.sqrt(dT))               # up factor\n",
    "d = 1.0 / u                                   # down factor "
   ]
  },
  {
   "cell_type": "code",
   "execution_count": 4,
   "id": "07a4ef39",
   "metadata": {},
   "outputs": [],
   "source": [
    "S = np.zeros((N + 1, N + 1))\n",
    "S[0, 0] = S0\n",
    "z = 1\n",
    "for t in range(1, N + 1):\n",
    "    for i in range(z):\n",
    "        S[i, t] = S[i, t-1] * u\n",
    "        S[i+1, t] = S[i, t-1] * d\n",
    "    z += 1"
   ]
  },
  {
   "cell_type": "code",
   "execution_count": 5,
   "id": "47d54f7d",
   "metadata": {},
   "outputs": [
    {
     "data": {
      "text/plain": [
       "array([[100.        , 110.51709181, 122.14027582, 134.98588076,\n",
       "        149.18246976],\n",
       "       [  0.        ,  90.4837418 , 100.        , 110.51709181,\n",
       "        122.14027582],\n",
       "       [  0.        ,   0.        ,  81.87307531,  90.4837418 ,\n",
       "        100.        ],\n",
       "       [  0.        ,   0.        ,   0.        ,  74.08182207,\n",
       "         81.87307531],\n",
       "       [  0.        ,   0.        ,   0.        ,   0.        ,\n",
       "         67.0320046 ]])"
      ]
     },
     "execution_count": 5,
     "metadata": {},
     "output_type": "execute_result"
    }
   ],
   "source": [
    "S"
   ]
  },
  {
   "cell_type": "code",
   "execution_count": 6,
   "id": "ffe578f6",
   "metadata": {},
   "outputs": [
    {
     "data": {
      "text/plain": [
       "0.537808371956414"
      ]
     },
     "execution_count": 6,
     "metadata": {},
     "output_type": "execute_result"
    }
   ],
   "source": [
    "a = np.exp(r * dT)    # risk free compound return\n",
    "p = (a - d)/ (u - d)  # risk neutral up probability\n",
    "q = 1.0 - p           # risk neutral down probability\n",
    "p"
   ]
  },
  {
   "cell_type": "markdown",
   "id": "51b8a6d0",
   "metadata": {},
   "source": [
    "Finding option value at each final node"
   ]
  },
  {
   "cell_type": "code",
   "execution_count": 7,
   "id": "17546fe0",
   "metadata": {},
   "outputs": [
    {
     "data": {
      "text/plain": [
       "array([[ 0.        ,  0.        ,  0.        ,  0.        , 49.18246976],\n",
       "       [ 0.        ,  0.        ,  0.        ,  0.        , 22.14027582],\n",
       "       [ 0.        ,  0.        ,  0.        ,  0.        ,  0.        ],\n",
       "       [ 0.        ,  0.        ,  0.        ,  0.        ,  0.        ],\n",
       "       [ 0.        ,  0.        ,  0.        ,  0.        ,  0.        ]])"
      ]
     },
     "execution_count": 7,
     "metadata": {},
     "output_type": "execute_result"
    }
   ],
   "source": [
    "S_T = S[:,-1]\n",
    "V = np.zeros((N + 1, N + 1))\n",
    "if payoff ==\"call\":\n",
    "    V[:,-1] = np.maximum(S_T-K, 0.0)\n",
    "V"
   ]
  },
  {
   "cell_type": "markdown",
   "id": "b13d1a6d",
   "metadata": {},
   "source": [
    "Finding option value at earlier nodes"
   ]
  },
  {
   "cell_type": "code",
   "execution_count": 8,
   "id": "059ecc19",
   "metadata": {},
   "outputs": [
    {
     "data": {
      "text/plain": [
       "array([[ 9.97052292, 15.92151924, 24.60928461, 36.22810071, 49.18246976],\n",
       "       [ 0.        ,  3.31726113,  6.24569514, 11.75931176, 22.14027582],\n",
       "       [ 0.        ,  0.        ,  0.        ,  0.        ,  0.        ],\n",
       "       [ 0.        ,  0.        ,  0.        ,  0.        ,  0.        ],\n",
       "       [ 0.        ,  0.        ,  0.        ,  0.        ,  0.        ]])"
      ]
     },
     "execution_count": 8,
     "metadata": {},
     "output_type": "execute_result"
    }
   ],
   "source": [
    "# for European Option\n",
    "for j in range(N-1, -1, -1): # Column. looping backwards. From N-1 to 0\n",
    "    for i in range(j+1):  # Row. looping forwards. From 0 to j\n",
    "        V[i,j] = np.exp(-r*dT) * (p * V[i,j + 1] + q * V[i + 1,j + 1]) #the theoretical value at each node.\n",
    "V"
   ]
  },
  {
   "cell_type": "code",
   "execution_count": 9,
   "id": "575837ad",
   "metadata": {},
   "outputs": [
    {
     "name": "stdout",
     "output_type": "stream",
     "text": [
      "European call 9.970522921901262\n"
     ]
    }
   ],
   "source": [
    "print('European ' + payoff, str( V[0,0]))"
   ]
  },
  {
   "cell_type": "code",
   "execution_count": null,
   "id": "b4c273f5",
   "metadata": {},
   "outputs": [],
   "source": []
  }
 ],
 "metadata": {
  "kernelspec": {
   "display_name": "Python 3 (ipykernel)",
   "language": "python",
   "name": "python3"
  },
  "language_info": {
   "codemirror_mode": {
    "name": "ipython",
    "version": 3
   },
   "file_extension": ".py",
   "mimetype": "text/x-python",
   "name": "python",
   "nbconvert_exporter": "python",
   "pygments_lexer": "ipython3",
   "version": "3.11.5"
  }
 },
 "nbformat": 4,
 "nbformat_minor": 5
}
